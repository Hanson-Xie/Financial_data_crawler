{
 "cells": [
  {
   "cell_type": "code",
   "execution_count": 8,
   "metadata": {},
   "outputs": [
    {
     "name": "stdout",
     "output_type": "stream",
     "text": [
      "0 5\n",
      "2\n",
      "0 1\n",
      "0\n",
      "here?\n",
      "1 1\n",
      "1\n",
      "Next\n",
      "0 5\n",
      "2\n",
      "0 1\n",
      "0\n",
      "1 1\n",
      "1\n"
     ]
    },
    {
     "data": {
      "text/plain": [
       "1"
      ]
     },
     "execution_count": 8,
     "metadata": {},
     "output_type": "execute_result"
    }
   ],
   "source": [
    "def test(nums,target):\n",
    "    i,j=0,len(nums)-1\n",
    "    \n",
    "    while i<=j:\n",
    "        print(i,j)\n",
    "        mid= (i+j)//2\n",
    "        print(mid)\n",
    "        if target==nums[mid]:return mid\n",
    "        else:\n",
    "            if target>nums[mid]:\n",
    "                i=mid+1\n",
    "                print('here?')\n",
    "            else:\n",
    "                j=mid-1\n",
    "        \n",
    "    return -1\n",
    "\n",
    "def test2(nums,target):\n",
    "    l, r = 0, len(nums) - 1\n",
    "    while l <= r: \n",
    "        print(l,r)\n",
    "        mid = l + (r - l) // 2\n",
    "        print(mid)\n",
    "        if nums[mid] == target: return mid\n",
    "        elif nums[mid] < target: l = mid + 1\n",
    "        else: r = mid - 1\n",
    "    return -1\n",
    "\n",
    "nums=[-1,0,3,5,9,12]\n",
    "target=0\n",
    "test(nums,target)\n",
    "print('Next')\n",
    "test2(nums,target)"
   ]
  },
  {
   "cell_type": "code",
   "execution_count": 26,
   "metadata": {},
   "outputs": [
    {
     "data": {
      "text/plain": [
       "2"
      ]
     },
     "execution_count": 26,
     "metadata": {},
     "output_type": "execute_result"
    }
   ],
   "source": [
    "def firstBadVersion(n: int,bad) -> int:\n",
    "    \n",
    "    if n==1:return 1\n",
    "    \n",
    "    i,j=1,n\n",
    "    \n",
    "    while i<=j:\n",
    "        mid=(i+j)//2\n",
    "        r=isBadVersion(mid,bad)\n",
    "        \n",
    "        if  not r and isBadVersion(mid+1,bad): return mid+1\n",
    "        elif r and not isBadVersion(mid-1,bad):return mid\n",
    "\n",
    "        if r:j=mid-1\n",
    "        else:i=mid+1\n",
    "\n",
    "def isBadVersion(t,bad):\n",
    "    if t<bad: return False\n",
    "    else: return True\n",
    "\n",
    "firstBadVersion(100,2)"
   ]
  },
  {
   "cell_type": "code",
   "execution_count": 28,
   "metadata": {},
   "outputs": [
    {
     "data": {
      "text/plain": [
       "0"
      ]
     },
     "execution_count": 28,
     "metadata": {},
     "output_type": "execute_result"
    }
   ],
   "source": [
    "1//2"
   ]
  },
  {
   "cell_type": "code",
   "execution_count": 45,
   "metadata": {},
   "outputs": [
    {
     "data": {
      "text/plain": [
       "Counter()"
      ]
     },
     "execution_count": 45,
     "metadata": {},
     "output_type": "execute_result"
    }
   ],
   "source": [
    "from collections import Counter\n",
    "\n",
    "a=\"i\"\n",
    "b=\"ai\"\n",
    "\n",
    "da=Counter(a)\n",
    "db=Counter(b)\n",
    "\n",
    "da-db"
   ]
  },
  {
   "cell_type": "code",
   "execution_count": null,
   "metadata": {},
   "outputs": [],
   "source": [
    "i=3\n",
    "stack=[i]\n",
    "node=None\n",
    "\n",
    "while stack.pop()>2:\n",
    "\n",
    "    stack.append([])\n",
    "\n",
    "\n"
   ]
  }
 ],
 "metadata": {
  "kernelspec": {
   "display_name": "dlenv",
   "language": "python",
   "name": "dlenv"
  },
  "orig_nbformat": 4
 },
 "nbformat": 4,
 "nbformat_minor": 2
}
